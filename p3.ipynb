{
 "cells": [
  {
   "cell_type": "code",
   "execution_count": 14,
   "metadata": {
    "collapsed": false
   },
   "outputs": [],
   "source": [
    "import numpy as np\n",
    "import csv\n",
    "import matplotlib.pyplot as plt\n",
    "import math\n",
    "import random\n",
    "# Predict via the user-specific median.\n",
    "# If the user has no data, use the global median.\n",
    "\n",
    "train_file = 'train.csv'\n",
    "test_file  = 'test.csv'\n",
    "soln_file  = 'user_median.csv'\n",
    "profiles_file = 'profiles.csv'\n",
    "\n"
   ]
  },
  {
   "cell_type": "code",
   "execution_count": 2,
   "metadata": {
    "collapsed": false
   },
   "outputs": [],
   "source": [
    "# Load the training data.\n",
    "train_data = {}\n",
    "with open(train_file, 'r') as train_fh:\n",
    "    train_csv = csv.reader(train_fh, delimiter=',', quotechar='\"')\n",
    "    next(train_csv, None)\n",
    "    for row in train_csv:\n",
    "        user   = row[0]\n",
    "        artist = row[1]\n",
    "        plays  = row[2]\n",
    "    \n",
    "        if not user in train_data:\n",
    "            train_data[user] = {}\n",
    "        \n",
    "        train_data[user][artist] = int(plays)"
   ]
  },
  {
   "cell_type": "code",
   "execution_count": 3,
   "metadata": {
    "collapsed": false
   },
   "outputs": [],
   "source": [
    "# Load profiles.\n",
    "sex_data = {}\n",
    "age_data={}\n",
    "country_data={}\n",
    "with open(profiles_file, 'r') as profiles_fh:\n",
    "    profiles_csv = csv.reader(profiles_fh, delimiter=',', quotechar='\"')\n",
    "    next(profiles_csv, None)\n",
    "    for row in profiles_csv:\n",
    "        user = row[0]\n",
    "        sex = row[1]\n",
    "        age = row[2]\n",
    "        country = row[3]\n",
    "\n",
    "        if not user in train_data:\n",
    "            sex_data[user]={}\n",
    "            age_data[user]={}\n",
    "            country_data[user]={}\n",
    "        \n",
    "        sex_data[user] = sex\n",
    "        age_data[user] = age\n",
    "        country_data[user] = country"
   ]
  },
  {
   "cell_type": "code",
   "execution_count": 4,
   "metadata": {
    "collapsed": false
   },
   "outputs": [
    {
     "name": "stdout",
     "output_type": "stream",
     "text": [
      "m\n",
      "21\n",
      "Germany\n"
     ]
    }
   ],
   "source": [
    "print sex_data[user]\n",
    "print age_data[user]\n",
    "print country_data[user]"
   ]
  },
  {
   "cell_type": "code",
   "execution_count": 19,
   "metadata": {
    "collapsed": false
   },
   "outputs": [],
   "source": [
    "#dictionary mapping users to array of features\n",
    "user_features = {}\n",
    "user_clusters = {}\n",
    "cluster_means = []\n",
    "cluster_count = []\n",
    "numclusters = 1\n",
    "\n",
    "#initialize clusters\n",
    "for i in range(numclusters):\n",
    "    cluster_means.append(i)\n",
    "    cluster_means[i] = 0\n",
    "    cluster_count.append(i)\n",
    "    cluster_count[i] = 0"
   ]
  },
  {
   "cell_type": "code",
   "execution_count": 20,
   "metadata": {
    "collapsed": true
   },
   "outputs": [],
   "source": [
    "#assign clusters to user somehow"
   ]
  },
  {
   "cell_type": "code",
   "execution_count": 21,
   "metadata": {
    "collapsed": false
   },
   "outputs": [],
   "source": [
    "#feature 0: mean of log of plays\n",
    "plays_array = []\n",
    "for user, user_data in train_data.iteritems():\n",
    "    user_plays = []\n",
    "    for artist, plays in user_data.iteritems():\n",
    "        plays_array.append(math.log(plays))\n",
    "        user_plays.append(math.log(plays))\n",
    "    user_features[user] = [np.mean(np.array(user_plays))]\n",
    "    \n",
    "    #assign cluster to the user somehow\n",
    "    user_clusters[user] = 0\n",
    "    \n",
    "    #find mean for each cluster\n",
    "    cluster_means[user_clusters[user]] += user_features[user][0]\n",
    "    cluster_count[user_clusters[user]] += 1\n",
    "\n",
    "#previously called global_median\n",
    "user_features[\"*\"] = [np.mean(np.array(plays_array))]"
   ]
  },
  {
   "cell_type": "code",
   "execution_count": 22,
   "metadata": {
    "collapsed": false
   },
   "outputs": [
    {
     "data": {
      "image/png": "[encoded data removed]",
      "text/plain": [
       "<matplotlib.figure.Figure at 0x12595f710>"
      ]
     },
     "metadata": {},
     "output_type": "display_data"
    }
   ],
   "source": [
    "# histogram\n",
    "plt.hist(plays_array, bins=100)\n",
    "plt.show()\n"
   ]
  },
  {
   "cell_type": "code",
   "execution_count": 23,
   "metadata": {
    "collapsed": false
   },
   "outputs": [
    {
     "name": "stdout",
     "output_type": "stream",
     "text": [
      "4.65992926036\n"
     ]
    }
   ],
   "source": [
    "#find cluster means\n",
    "for cluster in range(len(cluster_means)):\n",
    "    #if exist items in cluster, use mean of all items in cluster\n",
    "    if cluster_count[cluster] > 0:\n",
    "        cluster_means[cluster] /= cluster_count[cluster]\n",
    "    #otherwise just use global median\n",
    "    else:\n",
    "        cluster_means[cluster] = user_features[\"*\"][0]\n",
    "    print cluster_means[cluster]\n",
    "\n"
   ]
  },
  {
   "cell_type": "code",
   "execution_count": 24,
   "metadata": {
    "collapsed": false
   },
   "outputs": [
    {
     "name": "stdout",
     "output_type": "stream",
     "text": [
      "201.62166678\n"
     ]
    }
   ],
   "source": [
    "# Find training error\n",
    "error = 0\n",
    "N = 0\n",
    "for user, user_data in train_data.iteritems():\n",
    "    for artist, plays in user_data.iteritems():\n",
    "        error += abs(math.exp(cluster_means[user_clusters[user]]) - plays)\n",
    "        N += 1\n",
    "\n",
    "print error/N"
   ]
  },
  {
   "cell_type": "code",
   "execution_count": 26,
   "metadata": {
    "collapsed": false
   },
   "outputs": [
    {
     "ename": "NameError",
     "evalue": "name 'user_means' is not defined",
     "output_type": "error",
     "traceback": [
      "\u001b[0;31m---------------------------------------------------------------------------\u001b[0m",
      "\u001b[0;31mNameError\u001b[0m                                 Traceback (most recent call last)",
      "\u001b[0;32m<ipython-input-26-8b2b5b09f43d>\u001b[0m in \u001b[0;36m<module>\u001b[0;34m()\u001b[0m\n\u001b[1;32m     18\u001b[0m             \u001b[0martist\u001b[0m \u001b[0;34m=\u001b[0m \u001b[0mrow\u001b[0m\u001b[0;34m[\u001b[0m\u001b[0;36m2\u001b[0m\u001b[0;34m]\u001b[0m\u001b[0;34m\u001b[0m\u001b[0m\n\u001b[1;32m     19\u001b[0m \u001b[0;34m\u001b[0m\u001b[0m\n\u001b[0;32m---> 20\u001b[0;31m             \u001b[0;32mif\u001b[0m \u001b[0muser\u001b[0m \u001b[0;32min\u001b[0m \u001b[0muser_means\u001b[0m\u001b[0;34m:\u001b[0m\u001b[0;34m\u001b[0m\u001b[0m\n\u001b[0m\u001b[1;32m     21\u001b[0m                 \u001b[0msoln_csv\u001b[0m\u001b[0;34m.\u001b[0m\u001b[0mwriterow\u001b[0m\u001b[0;34m(\u001b[0m\u001b[0;34m[\u001b[0m\u001b[0mid\u001b[0m\u001b[0;34m,\u001b[0m \u001b[0mmath\u001b[0m\u001b[0;34m.\u001b[0m\u001b[0mexp\u001b[0m\u001b[0;34m(\u001b[0m\u001b[0muser_means\u001b[0m\u001b[0;34m[\u001b[0m\u001b[0muser\u001b[0m\u001b[0;34m]\u001b[0m\u001b[0;34m)\u001b[0m\u001b[0;34m]\u001b[0m\u001b[0;34m)\u001b[0m\u001b[0;34m\u001b[0m\u001b[0m\n\u001b[1;32m     22\u001b[0m             \u001b[0;32melse\u001b[0m\u001b[0;34m:\u001b[0m\u001b[0;34m\u001b[0m\u001b[0m\n",
      "\u001b[0;31mNameError\u001b[0m: name 'user_means' is not defined"
     ]
    }
   ],
   "source": [
    "#**fix to match new way of predicting***\n",
    "\n",
    "# Write out test solutions.\n",
    "with open(test_file, 'r') as test_fh:\n",
    "    test_csv = csv.reader(test_fh, delimiter=',', quotechar='\"')\n",
    "    next(test_csv, None)\n",
    "\n",
    "    with open(soln_file, 'w') as soln_fh:\n",
    "        soln_csv = csv.writer(soln_fh,\n",
    "                              delimiter=',',\n",
    "                              quotechar='\"',\n",
    "                              quoting=csv.QUOTE_MINIMAL)\n",
    "        soln_csv.writerow(['Id', 'plays'])\n",
    "\n",
    "        for row in test_csv:\n",
    "            id     = row[0]\n",
    "            user   = row[1]\n",
    "            artist = row[2]\n",
    "\n",
    "            if user in user_medians:\n",
    "                soln_csv.writerow([id, user_medians[user]])\n",
    "            else:\n",
    "                print \"User\", id, \"not in training data.\"\n",
    "                soln_csv.writerow([id, global_median])\n",
    "                \n"
   ]
  },
  {
   "cell_type": "code",
   "execution_count": null,
   "metadata": {
    "collapsed": true
   },
   "outputs": [],
   "source": [
    "#training error:\n",
    "#all global_median 201.220027948\n",
    "#user_median if exists  195.363189455\n",
    "#one cluster of medians 208.014032891\n",
    "#one cluster of medians using mean of logs: 201.62166678\n"
   ]
  }
 ],
 "metadata": {
  "kernelspec": {
   "display_name": "Python 2",
   "language": "python",
   "name": "python2"
  },
  "language_info": {
   "codemirror_mode": {
    "name": "ipython",
    "version": 2
   },
   "file_extension": ".py",
   "mimetype": "text/x-python",
   "name": "python",
   "nbconvert_exporter": "python",
   "pygments_lexer": "ipython2",
   "version": "2.7.13"
  }
 },
 "nbformat": 4,
 "nbformat_minor": 2
}
