{
 "cells": [
  {
   "cell_type": "code",
   "execution_count": 59,
   "metadata": {
    "collapsed": false
   },
   "outputs": [],
   "source": [
    "import numpy as np\n",
    "import csv\n",
    "\n",
    "# Predict via the user-specific median.\n",
    "# If the user has no data, use the global median.\n",
    "\n",
    "train_file = 'train.csv'\n",
    "test_file  = 'test.csv'\n",
    "soln_file  = 'user_median.csv'\n",
    "profiles_file = 'profiles.csv'\n",
    "\n"
   ]
  },
  {
   "cell_type": "code",
   "execution_count": 60,
   "metadata": {
    "collapsed": true
   },
   "outputs": [],
   "source": [
    "# Load the training data.\n",
    "train_data = {}\n",
    "with open(train_file, 'r') as train_fh:\n",
    "    train_csv = csv.reader(train_fh, delimiter=',', quotechar='\"')\n",
    "    next(train_csv, None)\n",
    "    for row in train_csv:\n",
    "        user   = row[0]\n",
    "        artist = row[1]\n",
    "        plays  = row[2]\n",
    "    \n",
    "        if not user in train_data:\n",
    "            train_data[user] = {}\n",
    "        \n",
    "        train_data[user][artist] = int(plays)"
   ]
  },
  {
   "cell_type": "code",
   "execution_count": 61,
   "metadata": {
    "collapsed": false
   },
   "outputs": [],
   "source": [
    "# Load profiles.\n",
    "sex_data = {}\n",
    "age_data={}\n",
    "country_data={}\n",
    "with open(profiles_file, 'r') as profiles_fh:\n",
    "    profiles_csv = csv.reader(profiles_fh, delimiter=',', quotechar='\"')\n",
    "    next(profiles_csv, None)\n",
    "    for row in profiles_csv:\n",
    "        user = row[0]\n",
    "        sex = row[1]\n",
    "        age = row[2]\n",
    "        country = row[3]\n",
    "        \n",
    "        if not user in train_data:\n",
    "            sex_data[user]={}\n",
    "            age_data[user]={}\n",
    "            country_data[user]={}\n",
    "        \n",
    "        sex_data[user] = sex\n",
    "        age_data[user] = age\n",
    "        country_data[user] = country"
   ]
  },
  {
   "cell_type": "code",
   "execution_count": 62,
   "metadata": {
    "collapsed": false
   },
   "outputs": [
    {
     "name": "stdout",
     "output_type": "stream",
     "text": [
      "m\n",
      "21\n",
      "Germany\n"
     ]
    }
   ],
   "source": [
    "print sex_data[user]\n",
    "print age_data[user]\n",
    "print country_data[user]"
   ]
  },
  {
   "cell_type": "code",
   "execution_count": 73,
   "metadata": {
    "collapsed": false
   },
   "outputs": [],
   "source": [
    "#dictionary mapping users to array of features\n",
    "user_features = {}\n",
    "user_clusters = {}\n",
    "cluster_means = []\n",
    "cluster_count = []\n",
    "numclusters = 1\n",
    "\n",
    "#initialize clusters\n",
    "for i in range(numclusters):\n",
    "    cluster_means.append(i)\n",
    "    cluster_means[i] = 0\n",
    "    cluster_count.append(i)\n",
    "    cluster_count[i] = 0"
   ]
  },
  {
   "cell_type": "code",
   "execution_count": 64,
   "metadata": {
    "collapsed": true
   },
   "outputs": [],
   "source": [
    "#assign clusters to user somehow"
   ]
  },
  {
   "cell_type": "code",
   "execution_count": 74,
   "metadata": {
    "collapsed": false
   },
   "outputs": [],
   "source": [
    "#feature 0: median of plays\n",
    "plays_array = []\n",
    "for user, user_data in train_data.iteritems():\n",
    "    user_plays = []\n",
    "    for artist, plays in user_data.iteritems():\n",
    "        plays_array.append(plays)\n",
    "        user_plays.append(plays)\n",
    "    user_features[user] = [np.median(np.array(user_plays))]\n",
    "    \n",
    "    #assign cluster to the user somehow\n",
    "    user_clusters[user] = 0\n",
    "    \n",
    "    #find mean for each cluster\n",
    "    cluster_means[user_clusters[user]] += user_features[user][0]\n",
    "    cluster_count[user_clusters[user]] += 1\n",
    "\n",
    "#previously called global_median\n",
    "user_features[\"*\"] = [np.median(np.array(plays_array))]"
   ]
  },
  {
   "cell_type": "code",
   "execution_count": null,
   "metadata": {
    "collapsed": true
   },
   "outputs": [],
   "source": [
    "#feature 1: age of users\n",
    "\n"
   ]
  },
  {
   "cell_type": "code",
   "execution_count": 75,
   "metadata": {
    "collapsed": false
   },
   "outputs": [
    {
     "name": "stdout",
     "output_type": "stream",
     "text": [
      "170.71736838\n"
     ]
    }
   ],
   "source": [
    "#find cluster means\n",
    "for cluster in range(len(cluster_means)):\n",
    "    #if exist items in cluster, use mean of all items in cluster\n",
    "    if cluster_count[cluster] > 0:\n",
    "        cluster_means[cluster] /= cluster_count[cluster]\n",
    "    #otherwise just use global median\n",
    "    else:\n",
    "        cluster_means[cluster] = user_features[\"*\"][0]\n",
    "    print cluster_means[cluster]\n",
    "\n"
   ]
  },
  {
   "cell_type": "code",
   "execution_count": 76,
   "metadata": {
    "collapsed": false
   },
   "outputs": [
    {
     "name": "stdout",
     "output_type": "stream",
     "text": [
      "208.014032891\n"
     ]
    }
   ],
   "source": [
    "# Find training error\n",
    "error = 0\n",
    "N = 0\n",
    "for user, user_data in train_data.iteritems():\n",
    "    for artist, plays in user_data.iteritems():\n",
    "        error += abs(cluster_means[user_clusters[user]] - plays)\n",
    "        N += 1\n",
    "\n",
    "print error/N"
   ]
  },
  {
   "cell_type": "code",
   "execution_count": null,
   "metadata": {
    "collapsed": true
   },
   "outputs": [],
   "source": [
    "#**fix to match new way of predicting***\n",
    "\n",
    "# Write out test solutions.\n",
    "with open(test_file, 'r') as test_fh:\n",
    "    test_csv = csv.reader(test_fh, delimiter=',', quotechar='\"')\n",
    "    next(test_csv, None)\n",
    "\n",
    "    with open(soln_file, 'w') as soln_fh:\n",
    "        soln_csv = csv.writer(soln_fh,\n",
    "                              delimiter=',',\n",
    "                              quotechar='\"',\n",
    "                              quoting=csv.QUOTE_MINIMAL)\n",
    "        soln_csv.writerow(['Id', 'plays'])\n",
    "\n",
    "        for row in test_csv:\n",
    "            id     = row[0]\n",
    "            user   = row[1]\n",
    "            artist = row[2]\n",
    "\n",
    "            if user in user_medians:\n",
    "                soln_csv.writerow([id, user_medians[user]])\n",
    "            else:\n",
    "                print \"User\", id, \"not in training data.\"\n",
    "                soln_csv.writerow([id, global_median])\n",
    "                \n"
   ]
  },
  {
   "cell_type": "code",
   "execution_count": null,
   "metadata": {
    "collapsed": true
   },
   "outputs": [],
   "source": [
    "#training error:\n",
    "#all global_median 201.220027948\n",
    "#user_median if exists  195.363189455\n",
    "#one cluster of medians 208.014032891\n"
   ]
  }
 ],
 "metadata": {
  "kernelspec": {
   "display_name": "Python 3",
   "language": "python",
   "name": "python3"
  },
  "language_info": {
   "codemirror_mode": {
    "name": "ipython",
    "version": 3
   },
   "file_extension": ".py",
   "mimetype": "text/x-python",
   "name": "python",
   "nbconvert_exporter": "python",
   "pygments_lexer": "ipython3",
   "version": "3.6.0"
  }
 },
 "nbformat": 4,
 "nbformat_minor": 2
}
